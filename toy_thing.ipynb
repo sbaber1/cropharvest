{
 "cells": [
  {
   "cell_type": "code",
   "execution_count": 1,
   "metadata": {
    "colab": {
     "base_uri": "https://localhost:8080/",
     "height": 1000
    },
    "id": "jmLj3iS6jcNV",
    "outputId": "b56bf989-c87e-4c85-cdc7-1347f82a59b1"
   },
   "outputs": [],
   "source": [
    "# set up the stage\n",
    "#!pip install cropharvest\n",
    "from cropharvest.datasets import CropHarvest\n",
    "#from google.colab import drive\n",
    "#drive.mount('/content/drive')\n",
    "#%cd /content/drive/MyDrive/GitHub/cropharvest"
   ]
  },
  {
   "cell_type": "code",
   "execution_count": 12,
   "metadata": {
    "colab": {
     "base_uri": "https://localhost:8080/"
    },
    "id": "vpqQBVkTjsPT",
    "outputId": "85648521-4f2b-458f-a11d-41115789d095"
   },
   "outputs": [
    {
     "data": {
      "text/html": [
       "<p>To authorize access needed by Earth Engine, open the following\n",
       "        URL in a web browser and follow the instructions:</p>\n",
       "        <p><a href=https://accounts.google.com/o/oauth2/auth?client_id=517222506229-vsmmajv00ul0bs7p89v5m89qs8eb9359.apps.googleusercontent.com&scope=https%3A%2F%2Fwww.googleapis.com%2Fauth%2Fearthengine+https%3A%2F%2Fwww.googleapis.com%2Fauth%2Fdevstorage.full_control&redirect_uri=urn%3Aietf%3Awg%3Aoauth%3A2.0%3Aoob&response_type=code&code_challenge=veE-TS3ISOmUHxDVsg-VZbbI2JY2QmSQxvJ-cDRGUtA&code_challenge_method=S256>https://accounts.google.com/o/oauth2/auth?client_id=517222506229-vsmmajv00ul0bs7p89v5m89qs8eb9359.apps.googleusercontent.com&scope=https%3A%2F%2Fwww.googleapis.com%2Fauth%2Fearthengine+https%3A%2F%2Fwww.googleapis.com%2Fauth%2Fdevstorage.full_control&redirect_uri=urn%3Aietf%3Awg%3Aoauth%3A2.0%3Aoob&response_type=code&code_challenge=veE-TS3ISOmUHxDVsg-VZbbI2JY2QmSQxvJ-cDRGUtA&code_challenge_method=S256</a></p>\n",
       "        <p>The authorization workflow will generate a code, which you\n",
       "        should paste in the box below</p>\n",
       "        "
      ],
      "text/plain": [
       "<IPython.core.display.HTML object>"
      ]
     },
     "metadata": {},
     "output_type": "display_data"
    },
    {
     "name": "stdout",
     "output_type": "stream",
     "text": [
      "Enter verification code: 4/1AX4XfWgG-qNTW4gTwHfVTbOCTEve2ZYnd4azmIUkndnDvUH9jBITHIhJcoQ\n",
      "\n",
      "Successfully saved authorization token.\n"
     ]
    }
   ],
   "source": [
    "# importing libraries, connecting to gee\n",
    "import ee\n",
    "import math\n",
    "import numpy as np\n",
    "import pandas as pd\n",
    "import matplotlib.pyplot as plt\n",
    "# Trigger the authentication flow.\n",
    "ee.Authenticate()\n",
    "\n",
    "# Initialize the library.\n",
    "ee.Initialize()"
   ]
  },
  {
   "cell_type": "code",
   "execution_count": 13,
   "metadata": {
    "id": "5GwcuNaIkQRF",
    "scrolled": false
   },
   "outputs": [
    {
     "name": "stdout",
     "output_type": "stream",
     "text": [
      "[Errno 2] No such file or directory: 'cropharvest'\n",
      "/mnt/c/Users/sheil/Documents/GitHub/cropharvest/cropharvest/eo\n",
      "[Errno 2] No such file or directory: 'eo'\n",
      "/mnt/c/Users/sheil/Documents/GitHub/cropharvest/cropharvest/eo\n",
      "\u001b[0m\u001b[01;32m__init__.py\u001b[0m*     \u001b[01;32meo.py\u001b[0m*         \u001b[01;32msentinel2.py\u001b[0m*          \u001b[01;32mutils.py\u001b[0m*\n",
      "\u001b[34;42m__pycache__\u001b[0m/     \u001b[01;32mera5.py\u001b[0m*       \u001b[01;32msentinel2_altered.py\u001b[0m*  \u001b[01;32mvisualize.py\u001b[0m*\n",
      "\u001b[01;32mclassifiers.py\u001b[0m*  \u001b[01;32msentinel1.py\u001b[0m*  \u001b[01;32msrtm.py\u001b[0m*\n"
     ]
    }
   ],
   "source": [
    "# Visualization function as I am a visual person\n",
    "import sys\n",
    "path = '/Documents/GitHub/cropharvest/cropharvest/eo'\n",
    "# insert at 1, 0 is the script path (or '' in REPL)\n",
    "%cd cropharvest\n",
    "%cd eo\n",
    "%ls\n",
    "import folium\n",
    "from visualize import add_ee_layer\n",
    "from sentinel2_altered import get_single_image_choice, computeS2CloudScore, computeS2CloudScore_l2a, get_single_image_s22a, projectShadows, computeQualityScore"
   ]
  },
  {
   "cell_type": "code",
   "execution_count": 14,
   "metadata": {
    "id": "XV7PCz7LSwV7"
   },
   "outputs": [],
   "source": [
    "# import eo stuff from harvest\n",
    "#from cropharvest.eo import eo, era5, utils\n",
    "#from cropharvest.eo.sentinel2 import get_single_image"
   ]
  },
  {
   "cell_type": "code",
   "execution_count": 43,
   "metadata": {
    "colab": {
     "base_uri": "https://localhost:8080/"
    },
    "id": "uYkpGoZlPOSV",
    "outputId": "ec0ad364-d5cc-4269-ff14-6e7ba3e0d0e9"
   },
   "outputs": [],
   "source": [
    "# import sentinel l1c and 2a\n",
    "from utils import date_to_string\n",
    "from datetime import date\n",
    "start_date = date(2019, 6, 30)\n",
    "end_date = date(2019, 7,30)\n",
    "region_us = ee.Geometry.Polygon([ [[-85.23605346679688, 40.06178210817461],\\\n",
    "                                          [-85.06027221679688, 40.06178210817461], \\\n",
    "                                          [-85.06027221679688, 40.196183582024986],\\\n",
    "                                          [-85.23605346679688, 40.196183582024986],\\\n",
    "                                          [-85.23605346679688, 40.06178210817461]]])\n",
    "\n",
    "# try a small geometry in togo\n",
    "region = ee.Geometry.Polygon( [[0.9118652343749999,\\\n",
    "              7.634775927004439\\\n",
    "            ],\\\n",
    "            [\\\n",
    "              1.02447509765625,\\\n",
    "              7.634775927004439\\\n",
    "            ],\\\n",
    "            [\\\n",
    "              1.02447509765625,\\\n",
    "              7.7490943810826565\\\n",
    "            ],\\\n",
    "            [\\\n",
    "              0.9118652343749999,\\\n",
    "              7.7490943810826565\\\n",
    "            ],\\\n",
    "            [\\\n",
    "              0.9118652343749999,\\\n",
    "              7.634775927004439\\\n",
    "            ]])\n"
   ]
  },
  {
   "cell_type": "code",
   "execution_count": 31,
   "metadata": {
    "scrolled": true
   },
   "outputs": [],
   "source": [
    "\n",
    "# from before, when I was testing out each step\n",
    "#start_date = '2019-06-30'\n",
    "#end_date = '2019-07-30'\n",
    "s2_l1c = ee.ImageCollection(\"COPERNICUS/S2\").filterDate(start_date, end_date).filterBounds(region);\n",
    "s2_l2a = ee.ImageCollection(\"COPERNICUS/S2_SR\").filterDate(start_date, end_date).filterBounds(region);\n",
    "\n",
    "\n",
    "s2_l1c = s2_l1c.map(computeS2CloudScore).map(projectShadows).map(computeQualityScore).sort(\"CLOUDY_PIXEL_PERCENTAGE\").first();\n",
    "s2_l2a = s2_l2a.map(computeS2CloudScore_l2a).map(projectShadows).map(computeQualityScore).sort(\"CLOUDY_PIXEL_PERCENTAGE\").first();\n",
    "\n",
    "# cloudScore\n",
    "s2_l1c_cloudScore = s2_l1c.select('cloudScore');\n",
    "s2_l2a_cloudScore = s2_l2a.select('cloudScore');\n",
    "\n",
    "# shadowScore\n",
    "s2_l1c_shadowScore = s2_l1c.select('shadowScore');\n",
    "s2_l2a_shadowScore = s2_l2a.select('shadowScore');\n",
    "\n",
    "\n",
    "# qualityScore\n",
    "\n",
    "s2_l1c_cloudShadowScore = s2_l1c.select('cloudShadowScore');\n",
    "s2_l2a_cloudShadowScore = s2_l2a.select('cloudShadowScore');\n",
    "\n",
    "# difference shadowScore\n",
    "\n",
    "shadowScore_diff = s2_l2a_shadowScore.subtract(s2_l1c_shadowScore);\n",
    "#visualization\n",
    "\n",
    "rgbVis = {'min': 0.0, 'max': 3000, 'bands': ['B4', 'B3', 'B2']};\n",
    "\n",
    "totalScoreVis = {'min': -1.0, 'max': 1};\n",
    "\n",
    "absVis = {'min': -1.0 , 'max': 1};\n",
    "\n",
    "\n"
   ]
  },
  {
   "cell_type": "code",
   "execution_count": 69,
   "metadata": {},
   "outputs": [
    {
     "name": "stdout",
     "output_type": "stream",
     "text": [
      "{'type': 'Image', 'bands': [{'id': 'shadowScore', 'data_type': {'type': 'PixelType', 'precision': 'int', 'min': 0, 'max': 1}, 'crs': 'EPSG:4326', 'crs_transform': [0.0001796630568239043, 0, 0, 0, -0.0001796630568239043, 0]}], 'id': 'COPERNICUS/S2/20190703T101031_20190703T102231_T31NBJ', 'version': 1562231192355578, 'properties': {'DATATAKE_IDENTIFIER': 'GS2A_20190703T101031_021040_N02.07', 'SPACECRAFT_NAME': 'Sentinel-2A', 'MEAN_INCIDENCE_AZIMUTH_ANGLE_B8A': 101.172136163, 'MEAN_SOLAR_AZIMUTH_ANGLE': 52.7271880391, 'system:footprint': {'type': 'LinearRing', 'coordinates': [[1.2733590423179983, 8.138449959217429], [1.2733440594506205, 8.138452672422869], [0.2775760203448154, 8.132997798958378], [0.27753438515958173, 8.132960991106637], [0.27748845035101316, 8.132929603254755], [0.27748565556721694, 8.132914770715022], [0.2791334661748918, 7.884933993749908], [0.280728599382393, 7.636957453722534], [0.2822712637271953, 7.388977790729161], [0.2837616679940183, 7.140994986286197], [0.28379879444366285, 7.140953717561547], [0.2838304021245755, 7.14090826190078], [0.2838453100645918, 7.140905541400796], [1.277321096384184, 7.145687981574521], [1.2773627438931643, 7.145724671269914], [1.277408651688938, 7.14575592718695], [1.2774114428845371, 7.145770706964666], [1.2754861495395202, 7.642076580421696], [1.2734277873073612, 8.138362999450065], [1.2733906238696695, 8.13840436312309], [1.2733590423179983, 8.138449959217429]]}, 'SOLAR_IRRADIANCE_B12': 85.25, 'SOLAR_IRRADIANCE_B10': 367.15, 'SENSOR_QUALITY': 'PASSED', 'SOLAR_IRRADIANCE_B11': 245.59, 'GENERATION_TIME': 1562161823000, 'SOLAR_IRRADIANCE_B8A': 955.32, 'FORMAT_CORRECTNESS': 'PASSED', 'CLOUD_COVERAGE_ASSESSMENT': 20.8209, 'system:time_end': 1562149741000, 'system:time_start': 1562149741000, 'DATASTRIP_ID': 'S2A_OPER_MSI_L1C_DS_SGS__20190703T135023_S20190703T102231_N02.07', 'PROCESSING_BASELINE': '02.07', 'SENSING_ORBIT_NUMBER': 22, 'SENSING_ORBIT_DIRECTION': 'DESCENDING', 'GENERAL_QUALITY': 'PASSED', 'GRANULE_ID': 'L1C_T31NBJ_A021040_20190703T102231', 'REFLECTANCE_CONVERSION_CORRECTION': 0.967505158616, 'MEAN_INCIDENCE_AZIMUTH_ANGLE_B8': 101.09742526, 'DATATAKE_TYPE': 'INS-NOBS', 'MEAN_INCIDENCE_AZIMUTH_ANGLE_B9': 101.363094398, 'MEAN_INCIDENCE_AZIMUTH_ANGLE_B6': 101.123602753, 'MEAN_INCIDENCE_AZIMUTH_ANGLE_B7': 101.141607759, 'MEAN_INCIDENCE_AZIMUTH_ANGLE_B4': 101.093231461, 'MEAN_INCIDENCE_ZENITH_ANGLE_B1': 6.1706916779, 'MEAN_INCIDENCE_AZIMUTH_ANGLE_B5': 101.10072798, 'RADIOMETRIC_QUALITY': 'PASSED', 'MEAN_INCIDENCE_AZIMUTH_ANGLE_B2': 101.140382829, 'MEAN_INCIDENCE_AZIMUTH_ANGLE_B3': 101.082688673, 'MEAN_INCIDENCE_ZENITH_ANGLE_B5': 5.99678597705, 'MEAN_INCIDENCE_AZIMUTH_ANGLE_B1': 101.300837878, 'MEAN_INCIDENCE_ZENITH_ANGLE_B4': 5.95787798084, 'MEAN_INCIDENCE_ZENITH_ANGLE_B3': 5.9024129564, 'MEAN_INCIDENCE_ZENITH_ANGLE_B2': 5.85055964899, 'MEAN_INCIDENCE_ZENITH_ANGLE_B9': 6.23438809876, 'MEAN_INCIDENCE_ZENITH_ANGLE_B8': 5.87794421001, 'MEAN_INCIDENCE_ZENITH_ANGLE_B7': 6.07864259581, 'MEAN_INCIDENCE_ZENITH_ANGLE_B6': 6.03597135802, 'MEAN_SOLAR_ZENITH_ANGLE': 26.9008651965, 'MEAN_INCIDENCE_ZENITH_ANGLE_B8A': 6.12448295187, 'MGRS_TILE': '31NBJ', 'CLOUDY_PIXEL_PERCENTAGE': 20.8209, 'PRODUCT_ID': 'S2A_MSIL1C_20190703T101031_N0207_R022_T31NBJ_20190703T135023', 'MEAN_INCIDENCE_ZENITH_ANGLE_B10': 5.94258792987, 'SOLAR_IRRADIANCE_B9': 812.92, 'DEGRADED_MSI_DATA_PERCENTAGE': 0, 'MEAN_INCIDENCE_ZENITH_ANGLE_B11': 6.03201043592, 'MEAN_INCIDENCE_ZENITH_ANGLE_B12': 6.13764374647, 'SOLAR_IRRADIANCE_B6': 1287.61, 'MEAN_INCIDENCE_AZIMUTH_ANGLE_B10': 101.231323387, 'SOLAR_IRRADIANCE_B5': 1424.64, 'MEAN_INCIDENCE_AZIMUTH_ANGLE_B11': 101.249654247, 'SOLAR_IRRADIANCE_B8': 1041.63, 'MEAN_INCIDENCE_AZIMUTH_ANGLE_B12': 101.34815066, 'SOLAR_IRRADIANCE_B7': 1162.08, 'SOLAR_IRRADIANCE_B2': 1959.72, 'SOLAR_IRRADIANCE_B1': 1884.69, 'SOLAR_IRRADIANCE_B4': 1512.06, 'GEOMETRIC_QUALITY': 'PASSED', 'SOLAR_IRRADIANCE_B3': 1823.24, 'system:asset_size': 1391739663, 'system:index': '20190703T101031_20190703T102231_T31NBJ'}}\n"
     ]
    }
   ],
   "source": [
    "print(s2_l1c_shadowScore.getInfo())"
   ]
  },
  {
   "cell_type": "code",
   "execution_count": 66,
   "metadata": {},
   "outputs": [],
   "source": [
    "start_date = '2019-06-30' #date(2019, 6, 30)\n",
    "#end_date = '2019-07-30'#date(2019, 7,30)\n",
    "end_date = '2019-07-15'\n",
    "s2_l1c = ee.ImageCollection(\"COPERNICUS/S2\").filterDate(start_date, end_date).filterBounds(region);\n",
    "s2_l2a = ee.ImageCollection(\"COPERNICUS/S2_SR\").filterDate(start_date, end_date).filterBounds(region);\n",
    "\n",
    "\n",
    "\n",
    "best_l1c = get_single_image_choice(region, start_date, end_date, s2_l1c).clip(region)\n",
    "best_l2a = get_single_image_s22a(region, start_date, end_date, s2_l2a).clip(region)\n",
    "\n",
    "#print(best_l2a.getInfo())\n",
    "#print(best_l1c.getInfo())"
   ]
  },
  {
   "cell_type": "code",
   "execution_count": 67,
   "metadata": {
    "colab": {
     "base_uri": "https://localhost:8080/",
     "height": 1000
    },
    "id": "QEvauskg4RCC",
    "outputId": "bb77aa2e-b246-4398-811b-f0bd456a2b04",
    "scrolled": true
   },
   "outputs": [
    {
     "data": {
      "text/html": [
       "<div style=\"width:100%;\"><div style=\"position:relative;width:100%;height:0;padding-bottom:60%;\"><span style=\"color:#565656\">Make this Notebook Trusted to load map: File -> Trust Notebook</span><iframe src=\"about:blank\" style=\"position:absolute;width:100%;height:100%;left:0;top:0;border:none !important;\" data-html=%3C%21DOCTYPE%20html%3E%0A%3Chead%3E%20%20%20%20%0A%20%20%20%20%3Cmeta%20http-equiv%3D%22content-type%22%20content%3D%22text/html%3B%20charset%3DUTF-8%22%20/%3E%0A%20%20%20%20%0A%20%20%20%20%20%20%20%20%3Cscript%3E%0A%20%20%20%20%20%20%20%20%20%20%20%20L_NO_TOUCH%20%3D%20false%3B%0A%20%20%20%20%20%20%20%20%20%20%20%20L_DISABLE_3D%20%3D%20false%3B%0A%20%20%20%20%20%20%20%20%3C/script%3E%0A%20%20%20%20%0A%20%20%20%20%3Cstyle%3Ehtml%2C%20body%20%7Bwidth%3A%20100%25%3Bheight%3A%20100%25%3Bmargin%3A%200%3Bpadding%3A%200%3B%7D%3C/style%3E%0A%20%20%20%20%3Cstyle%3E%23map%20%7Bposition%3Aabsolute%3Btop%3A0%3Bbottom%3A0%3Bright%3A0%3Bleft%3A0%3B%7D%3C/style%3E%0A%20%20%20%20%3Cscript%20src%3D%22https%3A//cdn.jsdelivr.net/npm/leaflet%401.6.0/dist/leaflet.js%22%3E%3C/script%3E%0A%20%20%20%20%3Cscript%20src%3D%22https%3A//code.jquery.com/jquery-1.12.4.min.js%22%3E%3C/script%3E%0A%20%20%20%20%3Cscript%20src%3D%22https%3A//maxcdn.bootstrapcdn.com/bootstrap/3.2.0/js/bootstrap.min.js%22%3E%3C/script%3E%0A%20%20%20%20%3Cscript%20src%3D%22https%3A//cdnjs.cloudflare.com/ajax/libs/Leaflet.awesome-markers/2.0.2/leaflet.awesome-markers.js%22%3E%3C/script%3E%0A%20%20%20%20%3Clink%20rel%3D%22stylesheet%22%20href%3D%22https%3A//cdn.jsdelivr.net/npm/leaflet%401.6.0/dist/leaflet.css%22/%3E%0A%20%20%20%20%3Clink%20rel%3D%22stylesheet%22%20href%3D%22https%3A//maxcdn.bootstrapcdn.com/bootstrap/3.2.0/css/bootstrap.min.css%22/%3E%0A%20%20%20%20%3Clink%20rel%3D%22stylesheet%22%20href%3D%22https%3A//maxcdn.bootstrapcdn.com/bootstrap/3.2.0/css/bootstrap-theme.min.css%22/%3E%0A%20%20%20%20%3Clink%20rel%3D%22stylesheet%22%20href%3D%22https%3A//maxcdn.bootstrapcdn.com/font-awesome/4.6.3/css/font-awesome.min.css%22/%3E%0A%20%20%20%20%3Clink%20rel%3D%22stylesheet%22%20href%3D%22https%3A//cdnjs.cloudflare.com/ajax/libs/Leaflet.awesome-markers/2.0.2/leaflet.awesome-markers.css%22/%3E%0A%20%20%20%20%3Clink%20rel%3D%22stylesheet%22%20href%3D%22https%3A//cdn.jsdelivr.net/gh/python-visualization/folium/folium/templates/leaflet.awesome.rotate.min.css%22/%3E%0A%20%20%20%20%0A%20%20%20%20%20%20%20%20%20%20%20%20%3Cmeta%20name%3D%22viewport%22%20content%3D%22width%3Ddevice-width%2C%0A%20%20%20%20%20%20%20%20%20%20%20%20%20%20%20%20initial-scale%3D1.0%2C%20maximum-scale%3D1.0%2C%20user-scalable%3Dno%22%20/%3E%0A%20%20%20%20%20%20%20%20%20%20%20%20%3Cstyle%3E%0A%20%20%20%20%20%20%20%20%20%20%20%20%20%20%20%20%23map_e11157a3b7f249018a47dc05d3c995a7%20%7B%0A%20%20%20%20%20%20%20%20%20%20%20%20%20%20%20%20%20%20%20%20position%3A%20relative%3B%0A%20%20%20%20%20%20%20%20%20%20%20%20%20%20%20%20%20%20%20%20width%3A%20100.0%25%3B%0A%20%20%20%20%20%20%20%20%20%20%20%20%20%20%20%20%20%20%20%20height%3A%20500.0px%3B%0A%20%20%20%20%20%20%20%20%20%20%20%20%20%20%20%20%20%20%20%20left%3A%200.0%25%3B%0A%20%20%20%20%20%20%20%20%20%20%20%20%20%20%20%20%20%20%20%20top%3A%200.0%25%3B%0A%20%20%20%20%20%20%20%20%20%20%20%20%20%20%20%20%7D%0A%20%20%20%20%20%20%20%20%20%20%20%20%3C/style%3E%0A%20%20%20%20%20%20%20%20%0A%3C/head%3E%0A%3Cbody%3E%20%20%20%20%0A%20%20%20%20%0A%20%20%20%20%20%20%20%20%20%20%20%20%3Cdiv%20class%3D%22folium-map%22%20id%3D%22map_e11157a3b7f249018a47dc05d3c995a7%22%20%3E%3C/div%3E%0A%20%20%20%20%20%20%20%20%0A%3C/body%3E%0A%3Cscript%3E%20%20%20%20%0A%20%20%20%20%0A%20%20%20%20%20%20%20%20%20%20%20%20var%20map_e11157a3b7f249018a47dc05d3c995a7%20%3D%20L.map%28%0A%20%20%20%20%20%20%20%20%20%20%20%20%20%20%20%20%22map_e11157a3b7f249018a47dc05d3c995a7%22%2C%0A%20%20%20%20%20%20%20%20%20%20%20%20%20%20%20%20%7B%0A%20%20%20%20%20%20%20%20%20%20%20%20%20%20%20%20%20%20%20%20center%3A%20%5B0.9681701660142681%2C%207.691936256456981%5D%2C%0A%20%20%20%20%20%20%20%20%20%20%20%20%20%20%20%20%20%20%20%20crs%3A%20L.CRS.EPSG3857%2C%0A%20%20%20%20%20%20%20%20%20%20%20%20%20%20%20%20%20%20%20%20zoom%3A%205%2C%0A%20%20%20%20%20%20%20%20%20%20%20%20%20%20%20%20%20%20%20%20zoomControl%3A%20true%2C%0A%20%20%20%20%20%20%20%20%20%20%20%20%20%20%20%20%20%20%20%20preferCanvas%3A%20false%2C%0A%20%20%20%20%20%20%20%20%20%20%20%20%20%20%20%20%7D%0A%20%20%20%20%20%20%20%20%20%20%20%20%29%3B%0A%0A%20%20%20%20%20%20%20%20%20%20%20%20%0A%0A%20%20%20%20%20%20%20%20%0A%20%20%20%20%0A%20%20%20%20%20%20%20%20%20%20%20%20var%20tile_layer_e345c6d83d254d9c9f527b5aff810563%20%3D%20L.tileLayer%28%0A%20%20%20%20%20%20%20%20%20%20%20%20%20%20%20%20%22https%3A//%7Bs%7D.tile.openstreetmap.org/%7Bz%7D/%7Bx%7D/%7By%7D.png%22%2C%0A%20%20%20%20%20%20%20%20%20%20%20%20%20%20%20%20%7B%22attribution%22%3A%20%22Data%20by%20%5Cu0026copy%3B%20%5Cu003ca%20href%3D%5C%22http%3A//openstreetmap.org%5C%22%5Cu003eOpenStreetMap%5Cu003c/a%5Cu003e%2C%20under%20%5Cu003ca%20href%3D%5C%22http%3A//www.openstreetmap.org/copyright%5C%22%5Cu003eODbL%5Cu003c/a%5Cu003e.%22%2C%20%22detectRetina%22%3A%20false%2C%20%22maxNativeZoom%22%3A%2018%2C%20%22maxZoom%22%3A%2018%2C%20%22minZoom%22%3A%200%2C%20%22noWrap%22%3A%20false%2C%20%22opacity%22%3A%201%2C%20%22subdomains%22%3A%20%22abc%22%2C%20%22tms%22%3A%20false%7D%0A%20%20%20%20%20%20%20%20%20%20%20%20%29.addTo%28map_e11157a3b7f249018a47dc05d3c995a7%29%3B%0A%20%20%20%20%20%20%20%20%0A%20%20%20%20%0A%20%20%20%20%20%20%20%20%20%20%20%20var%20tile_layer_c6973a87faf94bffbe485832c9e7e2e8%20%3D%20L.tileLayer%28%0A%20%20%20%20%20%20%20%20%20%20%20%20%20%20%20%20%22https%3A//earthengine.googleapis.com/v1alpha/projects/earthengine-legacy/maps/0b4fa65c3b74fdcfa6a0603b1638849b-1d8692c01449aad9c593997e6db1899d/tiles/%7Bz%7D/%7Bx%7D/%7By%7D%22%2C%0A%20%20%20%20%20%20%20%20%20%20%20%20%20%20%20%20%7B%22attribution%22%3A%20%22Google%20Earth%20Engine%22%2C%20%22detectRetina%22%3A%20false%2C%20%22maxNativeZoom%22%3A%2018%2C%20%22maxZoom%22%3A%2018%2C%20%22minZoom%22%3A%200%2C%20%22noWrap%22%3A%20false%2C%20%22opacity%22%3A%201%2C%20%22subdomains%22%3A%20%22abc%22%2C%20%22tms%22%3A%20false%7D%0A%20%20%20%20%20%20%20%20%20%20%20%20%29.addTo%28map_e11157a3b7f249018a47dc05d3c995a7%29%3B%0A%20%20%20%20%20%20%20%20%0A%20%20%20%20%0A%20%20%20%20%20%20%20%20%20%20%20%20var%20tile_layer_5974e21c7ba44e6492e363b40f2cf082%20%3D%20L.tileLayer%28%0A%20%20%20%20%20%20%20%20%20%20%20%20%20%20%20%20%22https%3A//earthengine.googleapis.com/v1alpha/projects/earthengine-legacy/maps/a69c64fd50ef6afe2d1bfe21ccfc9b4f-ac9abad47c580500e0b973e33701f90f/tiles/%7Bz%7D/%7Bx%7D/%7By%7D%22%2C%0A%20%20%20%20%20%20%20%20%20%20%20%20%20%20%20%20%7B%22attribution%22%3A%20%22Google%20Earth%20Engine%22%2C%20%22detectRetina%22%3A%20false%2C%20%22maxNativeZoom%22%3A%2018%2C%20%22maxZoom%22%3A%2018%2C%20%22minZoom%22%3A%200%2C%20%22noWrap%22%3A%20false%2C%20%22opacity%22%3A%201%2C%20%22subdomains%22%3A%20%22abc%22%2C%20%22tms%22%3A%20false%7D%0A%20%20%20%20%20%20%20%20%20%20%20%20%29.addTo%28map_e11157a3b7f249018a47dc05d3c995a7%29%3B%0A%20%20%20%20%20%20%20%20%0A%20%20%20%20%0A%20%20%20%20%20%20%20%20%20%20%20%20var%20layer_control_33221dfd92c34a269a0e6d6edb99a08e%20%3D%20%7B%0A%20%20%20%20%20%20%20%20%20%20%20%20%20%20%20%20base_layers%20%3A%20%7B%0A%20%20%20%20%20%20%20%20%20%20%20%20%20%20%20%20%20%20%20%20%22openstreetmap%22%20%3A%20tile_layer_e345c6d83d254d9c9f527b5aff810563%2C%0A%20%20%20%20%20%20%20%20%20%20%20%20%20%20%20%20%7D%2C%0A%20%20%20%20%20%20%20%20%20%20%20%20%20%20%20%20overlays%20%3A%20%20%7B%0A%20%20%20%20%20%20%20%20%20%20%20%20%20%20%20%20%20%20%20%20%22L1C%20Best%22%20%3A%20tile_layer_c6973a87faf94bffbe485832c9e7e2e8%2C%0A%20%20%20%20%20%20%20%20%20%20%20%20%20%20%20%20%20%20%20%20%22L2A%20Best%22%20%3A%20tile_layer_5974e21c7ba44e6492e363b40f2cf082%2C%0A%20%20%20%20%20%20%20%20%20%20%20%20%20%20%20%20%7D%2C%0A%20%20%20%20%20%20%20%20%20%20%20%20%7D%3B%0A%20%20%20%20%20%20%20%20%20%20%20%20L.control.layers%28%0A%20%20%20%20%20%20%20%20%20%20%20%20%20%20%20%20layer_control_33221dfd92c34a269a0e6d6edb99a08e.base_layers%2C%0A%20%20%20%20%20%20%20%20%20%20%20%20%20%20%20%20layer_control_33221dfd92c34a269a0e6d6edb99a08e.overlays%2C%0A%20%20%20%20%20%20%20%20%20%20%20%20%20%20%20%20%7B%22autoZIndex%22%3A%20true%2C%20%22collapsed%22%3A%20true%2C%20%22position%22%3A%20%22topright%22%7D%0A%20%20%20%20%20%20%20%20%20%20%20%20%29.addTo%28map_e11157a3b7f249018a47dc05d3c995a7%29%3B%0A%20%20%20%20%20%20%20%20%0A%3C/script%3E onload=\"this.contentDocument.open();this.contentDocument.write(    decodeURIComponent(this.getAttribute('data-html')));this.contentDocument.close();\" allowfullscreen webkitallowfullscreen mozallowfullscreen></iframe></div></div>"
      ],
      "text/plain": [
       "<folium.folium.Map at 0x7fb3847f1280>"
      ]
     },
     "metadata": {},
     "output_type": "display_data"
    }
   ],
   "source": [
    "# visualize these\n",
    "\n",
    "rgbVis = {'min': 0.0, 'max': 3000, 'bands': ['B4', 'B3', 'B2']}\n",
    "\n",
    "folium.Map.addLayer = add_ee_layer\n",
    "my_map = folium.Map(region.centroid(maxError =  1).getInfo()['coordinates'], zoom_start=5, height=500)\n",
    "\n",
    "\n",
    "'''\n",
    "# from before, testing out each step in the mosaicking\n",
    "#true color images of Sentinel-2\n",
    "my_map.addLayer(s2_l1c, rgbVis, 'L1C');\n",
    "my_map.addLayer(s2_l2a, rgbVis, 'L2A');\n",
    "\n",
    "#looking at where the clouds are\n",
    "my_map.addLayer(s2_l1c_cloudScore, absVis, 'L1C cloudScore');\n",
    "my_map.addLayer(s2_l2a_cloudScore, absVis, 'L2A cloudScore');\n",
    "\n",
    "#Map.addLayer(s2_l2a_cloudProb , {}, 'L2A cloudProb');\n",
    "\n",
    "#looking at cloud shadows\n",
    "my_map.addLayer(s2_l1c_shadowScore, absVis, 'L1C shadowScore');\n",
    "my_map.addLayer(s2_l2a_shadowScore, absVis, 'L2A shadowScore');\n",
    "\n",
    "#looking at difference in cloud shadows\n",
    "my_map.addLayer(shadowScore_diff, absVis, 'difference in shadows');\n",
    "\n",
    "#looking at total score (cloudShadow)\n",
    "my_map.addLayer(s2_l1c_cloudShadowScore, absVis, 'L1C cloudShadowScore');\n",
    "my_map.addLayer(s2_l2a_cloudShadowScore, absVis, 'L2A cloudShadowScore');\n",
    "\n",
    "'''\n",
    "# adding the best image from the month\n",
    "my_map.addLayer(best_l1c, rgbVis, 'L1C Best');\n",
    "my_map.addLayer(best_l2a, rgbVis, 'L2A Best');\n",
    "\n",
    "my_map.add_child(folium.LayerControl())\n",
    "\n",
    "# Display the map.\n",
    "display(my_map)"
   ]
  },
  {
   "cell_type": "code",
   "execution_count": 68,
   "metadata": {},
   "outputs": [
    {
     "name": "stdout",
     "output_type": "stream",
     "text": [
      "L2A: 2019-06-30 2019-07-15 https://earthengine.googleapis.com/v1alpha/projects/earthengine-legacy/thumbnails/17e2231951d6feec5e90ddfbb1e69042-6d40c4ca8294df87b2043a925ead8122:getPixels\n",
      "L1C: 2019-06-30 2019-07-15 https://earthengine.googleapis.com/v1alpha/projects/earthengine-legacy/thumbnails/c2d2c83b2e9af0a7776d3dc091652730-efee788e1a63dfd73f488176d4df0e8e:getPixels\n"
     ]
    }
   ],
   "source": [
    "viz = {'min': 0.0, 'max': 3000, 'bands': ['B4', 'B3', 'B2']}\n",
    "\n",
    "best_l1c_url = best_l1c.getThumbUrl({'min': 0.0, 'max': 3000, 'bands': ['B4', 'B3', 'B2'], 'scale' : 10})\n",
    "best_l2a_url = best_l2a.getThumbUrl({'min': 0.0, 'max': 3000, 'bands': ['B4', 'B3', 'B2'], 'scale':  10})\n",
    "print('L2A:', start_date, end_date, best_l2a_url)\n",
    "print('L1C:', start_date, end_date, best_l1c_url)\n",
    "from IPython.display import Image\n",
    "#Image(url=best_l1c_url, embed=True, format='png')\n",
    "#Image(url=best_l2a_url, embed=True, format='png')\n",
    "\n"
   ]
  },
  {
   "cell_type": "code",
   "execution_count": null,
   "metadata": {
    "id": "dAvt0JJ1qXoz"
   },
   "outputs": [],
   "source": [
    "'''\n",
    "# VISUALIZE\n",
    "# getting CDL\n",
    "\n",
    "print(date_to_string(start_date))\n",
    "\n",
    "### be sure to put this in utils\n",
    "def get_cdl_year(starting_date):\n",
    "  '''\n",
    "  starting_date = string\n",
    "  returns tuple\n",
    "  '''\n",
    "  year = date_to_string(starting_date)[:4]\n",
    "  newyear = year+'-01-01'\n",
    "  endyear = year+'-12-31'\n",
    "  return newyear, endyear\n",
    "\n",
    "rgbVis = {'min': 0.0, 'max': 1000, 'bands': ['B4', 'B3', 'B2']}\n",
    "ground_truth = ee.ImageCollection('USDA/NASS/CDL')\\\n",
    "                    .filter(ee.Filter.date(get_cdl_year(start_date)[0], get_cdl_year(start_date)[1]))\\\n",
    "                    .first()\\\n",
    "                    .clip(region)\n",
    "\n",
    "classvalue = ground_truth.get('cropland_class_values')#; //Type: LIST OF POSSIBLE VALUES\n",
    "croplandcover = ee.Image(ground_truth.select('cropland'))#; // Type: IMAGE\n",
    "\n",
    "print(ground_truth.getInfo());\n",
    "folium.Map.add_ee_layer = add_ee_layer\n",
    "my_map = folium.Map(location=[45.5236, -122.6750], zoom_start=3, height=500)\n",
    "\n",
    "my_map.add_ee_layer(croplandcover, {}, 'crop cover')\n",
    "my_map.add_ee_layer(img_l1c, rgbVis, 'Sentinel-2 L1C mosaic')\n",
    "my_map.add_ee_layer(img_l2a, rgbVis, 'Sentinel-2 L2A mosaic')\n",
    "\n",
    "\n",
    "my_map.add_child(folium.LayerControl())\n",
    "\n",
    "# Display the map.\n",
    "display(my_map)\n",
    "'''"
   ]
  },
  {
   "cell_type": "code",
   "execution_count": null,
   "metadata": {
    "id": "o9W4c31u2LuI"
   },
   "outputs": [],
   "source": [
    "## run some classifiers on this thing\n",
    "\n",
    "def classify_rf(image1, classes, input_region):\n",
    "  # taking CDL as input\n",
    "\n",
    "  #fix this so it takes ground_truth directly\n",
    "\n",
    "\n",
    "\n",
    "  #//trains on image1\n",
    "  bands = ['B1', 'B2','B3', 'B4', 'B5', 'B6', 'B7', 'B8', 'B8A', 'B9', 'B10', 'B11', 'B12']\n",
    "  label = 'cropland'\n",
    "  #this has to be a Feature Class, can't be a raster/image\n",
    "  \n",
    "\n",
    "  # using a random split method\n",
    "\n",
    "  sample = image1.addBands(classes.select(label)).sample(numPixels = 50000,\n",
    "                         seed = 0,\n",
    "                         region = input_region,\n",
    "                         geometries = True,\n",
    "                         scale = 10)\n",
    "  \n",
    "\n",
    "  sample = sample.randomColumn();\n",
    "\n",
    "  split = 0.7 # for training on 70% of the image, testing on 30%\n",
    "  training = sample.filter(ee.Filter.lt('random', split));\n",
    "  validation = sample.filter(ee.Filter.gte('random', split));\n",
    "\n",
    "  print(\"training size\", training.size().getInfo())\n",
    "  print('validation size', validation.size().getInfo())\n",
    "\n",
    "  # using the sampleRegions method\n",
    "  #training = image1.select(bands).sampleRegions(\n",
    "  #                                              collection = classes,\n",
    "  #                                              properties = [label],\n",
    "                                                # geometries = True,\n",
    "                                                # scale = 30,\n",
    "                                                # seed = 0\n",
    "                                                # )      \n",
    "  #//this has to be a Feature Class, can't be a raster/image\n",
    "  # validation sourced from same EO image, using different seed to get different points\n",
    "  # validation = image1.select(bands).sampleRegions(\n",
    "  #                                                 collection = classes,\n",
    "  #                                                 properties = [label],\n",
    "  #                                                 geometries = True,\n",
    "  #                                                 scale = 30,\n",
    "  #                                                 seed = 1)#starting with different random seed\n",
    "  #print('training', training)\n",
    "  #print('validation', validation)\n",
    "  # Trained with 70% of our data.\n",
    "  classifier = ee.Classifier.smileRandomForest(50, 8)\\\n",
    "                              .train(\n",
    "                                  features = training,\n",
    "                                  classProperty = label,\n",
    "                                  inputProperties= bands\n",
    "                                  );\n",
    "  classified = image1.classify(classifier)\n",
    "\n",
    "  trainAccuracy = classifier.confusionMatrix()\n",
    "  #print('Resubstitution error matrix: ', trainAccuracy.getInfo())\n",
    "  print('Training overall accuracy: ', trainAccuracy.accuracy().getInfo())\n",
    "\n",
    "\n",
    "\n",
    "  #//we then classify the second image\n",
    "  \n",
    "  validated = validation.classify(classifier);\n",
    "\n",
    "\n",
    "\n",
    "  #print(validated.getInfo(), \"validated info\");\n",
    "  testAccuracy = validated.errorMatrix('cropland', 'classification');\n",
    "  print('Validation overall accuracy: ', testAccuracy.accuracy().getInfo())\n",
    "\n",
    "  #print('Validation error matrix: ', testAccuracy.getInfo());\n",
    "  #print('Validation overall accuracy: ', testAccuracy.accuracy());\n",
    "\n",
    "  confMatrix = classifier.confusionMatrix();\n",
    "  OA = confMatrix.accuracy();\n",
    "  CA = confMatrix.consumersAccuracy();\n",
    "  Kappa = confMatrix.kappa();\n",
    "  Order = confMatrix.order();\n",
    "  PA = confMatrix.producersAccuracy();\n",
    "  #print(\"PA\", PA.getInfo())\n",
    "  \n",
    "  print('Confusion Matrix', confMatrix.getInfo());\n",
    "  print('Overall Accuracy', OA.getInfo());\n",
    "  print('Consumers Accuracy', CA.getInfo());\n",
    "  print('Kappa', Kappa.getInfo());\n",
    "  #print('Order', Order);\n",
    "  #print('Producers Accuracy', PA);\n",
    "  return validated, testAccuracy.accuracy#testAccuracy#;//TYPE: Image \n"
   ]
  },
  {
   "cell_type": "code",
   "execution_count": null,
   "metadata": {
    "id": "ests6Yb7sQWN"
   },
   "outputs": [],
   "source": [
    "print(classify_rf(img_l1c, croplandcover, region))"
   ]
  },
  {
   "cell_type": "code",
   "execution_count": null,
   "metadata": {
    "id": "X8N97kC2Nhn6"
   },
   "outputs": [],
   "source": [
    "print(croplandcover.bandNames().getInfo())\n",
    "\n",
    "input_region = region\n",
    "image1 = img\n",
    "classes = croplandcover\n",
    "sample = image1.addBands(classes).sample(numPixels = 5000,\n",
    "                                         seed = 0,\n",
    "                                         region = input_region,\n",
    "                                         geometries = True,\n",
    "                                         scale = 30)\n",
    "\n",
    "print(sample.getInfo())"
   ]
  },
  {
   "cell_type": "code",
   "execution_count": null,
   "metadata": {
    "id": "SOUFd38xDXNJ"
   },
   "outputs": [],
   "source": []
  }
 ],
 "metadata": {
  "colab": {
   "collapsed_sections": [],
   "name": "toy_thing.ipynb",
   "provenance": []
  },
  "kernelspec": {
   "display_name": "Python 3 (ipykernel)",
   "language": "python",
   "name": "python3"
  },
  "language_info": {
   "codemirror_mode": {
    "name": "ipython",
    "version": 3
   },
   "file_extension": ".py",
   "mimetype": "text/x-python",
   "name": "python",
   "nbconvert_exporter": "python",
   "pygments_lexer": "ipython3",
   "version": "3.9.7"
  }
 },
 "nbformat": 4,
 "nbformat_minor": 1
}
